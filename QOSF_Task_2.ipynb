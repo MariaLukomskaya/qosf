{
  "cells": [
    {
      "cell_type": "markdown",
      "metadata": {
        "id": "aOzbx46gCB_W"
      },
      "source": [
        "# QOSF\n"
      ]
    },
    {
      "cell_type": "markdown",
      "metadata": {
        "id": "kTCAm6-ugC-H"
      },
      "source": [
        "I want to introduce you to this notebook for easier guidens thorugh it. :)\n",
        "\n",
        "**The global structure** of the notebook is next:\n",
        "\n",
        "> **Part_1: Task**\n",
        "- Task: Definition\n",
        "\n",
        "> **Part_2: Solution**\n",
        "\n",
        ">> **Solution : Description**\n",
        "- - Step 1: Encode numbers\n",
        "- - Step 2: Apply Grover's algorithm\n",
        "- - Step 3: Dencode results\n",
        "- -  References\n",
        "\n",
        ">>**Code**\n",
        "- - Step 1: Encode numbers\n",
        "- - Step 2: Apply Grover's algorithm\n",
        "- - Step 3: Dencode results\n",
        "- - Step Extra: Function that was asked in the task\n",
        "\n",
        ">> **Code : Example to play with**\n",
        "- - Input\n",
        "- - Step 1: Encode numbers\n",
        "- - Step 2: Apply Grover's algorithm\n",
        "- - Step 3: Dencode results\n",
        "- - Results\n",
        "\n",
        ">> **Code : Exact solution from the task to play With**\n",
        "\n",
        "> **Part_3: Appendix**\n",
        "- Time efficiency chek\n",
        "- Future work\n"
      ]
    },
    {
      "cell_type": "markdown",
      "metadata": {
        "id": "EoimvB24kkqQ"
      },
      "source": [
        "# Part_1: Task"
      ]
    },
    {
      "cell_type": "markdown",
      "metadata": {
        "id": "uzEPy4xYkwIF"
      },
      "source": [
        "## **Task : Definition**\n",
        "\n",
        "\n",
        "**Task 2: Find negative numbers**\n",
        "Given a list of integer numbers, look for a negative number in the list. Consider an appropriate number of qubits and explain why your proposal is valid for all kinds of numbers in case\n",
        "\n",
        "```\n",
        "def find_negative_numbers(list[int]:list_number):\n",
        "“””\n",
        "list_number : integer list!.\n",
        "Return the True or False depends of the input\n",
        "“””\n",
        "```\n",
        "- Use a framework that works with quantum circuits, qiskit, cirq, pennylane, etc.\n",
        "- Consider print your quantum circuit\n",
        "\n",
        "\n",
        "\n",
        "\n",
        "**Example 1:**\n",
        "\n",
        "```\n",
        "A = find_negative_numbers([1,-3,2,15])\n",
        "print(A)\n",
        "```\n",
        "Output: “True”\n",
        "\n",
        "**Example 2:**\n",
        "```\n",
        "B = find_negative_numbers([1,4,8,11])\n",
        "print(B)\n",
        "```\n",
        "Output: “False”\n",
        "\n",
        "**Example 3:**\n",
        "```\n",
        "B = find_negative_numbers([-15,-14,2,-1])\n",
        "print(B)\n",
        "```\n",
        "Output: “True”\n"
      ]
    },
    {
      "cell_type": "markdown",
      "metadata": {
        "id": "5T-sAO5vowYE"
      },
      "source": [
        "#Part_2: Solution"
      ]
    },
    {
      "cell_type": "markdown",
      "metadata": {
        "id": "Uq9csayGofyO"
      },
      "source": [
        "## Solution : Description"
      ]
    },
    {
      "cell_type": "markdown",
      "metadata": {
        "id": "1LFzwGDxo9PC"
      },
      "source": [
        "Here you will see explanation of all steps of this code with algorithms and logic exaplanation."
      ]
    },
    {
      "cell_type": "markdown",
      "metadata": {
        "id": "Qi5diyLdp2da"
      },
      "source": [
        "The solution is split into 3 main steps:\n",
        "\n",
        "> **Step 1.** Encode numbers\n",
        "\n",
        "> **Step 2.** Apply Grover's algorithm\n",
        "\n",
        "> **Step 3.** Decode results\n",
        "\n",
        "\n",
        "Each **Steps 1, 2 and 3.** are splited into more steps that are exaplained below."
      ]
    },
    {
      "cell_type": "markdown",
      "metadata": {
        "id": "1e7iPqFCraIa"
      },
      "source": [
        "### **Step 1: Encode numbers**\n",
        "\n",
        "---\n",
        "\n",
        "*Description* of my logic and questions I stated for this part:\n",
        "\n",
        "---\n",
        "> **Q_1**:\n",
        "How to translate input ```A = [1,-3,2,15]``` into a quantum state?\n",
        "```\n",
        "According to Ref[1] the process I was looking for called Quantum\n",
        "Embedding. It is represents classical data as quantum states in a Hilbert\n",
        "space via a quantum feature map.\n",
        "```\n",
        "\n",
        "\n",
        "> **Q_2**:\n",
        "What type of quantum embedding do I need?\n",
        "```\n",
        "I found that one of the way to represent classical data as quantum states is\n",
        "Basis embedding, Ref[1]. It is transformation of classical data to binary\n",
        "strings and then into a qubit system.  \n",
        "```\n",
        "\n",
        "> **Q_3**:\n",
        "What should be the logic of quantum embedding I will use for my scecific task? How to include information about the number, it's sign and is there any other information that is neede? Do we need to encode the number itself?\n",
        "```\n",
        "I found the discussion Ref[2]. It gave me idea of the\n",
        "fact that I need to encode to binary the indexes of the numbers from the list\n",
        "and also I can encode the sign of the number using adding one more 0 or 1 to\n",
        "the encoded index.\n",
        "```\n",
        "```\n",
        "This way I will have all needed information about number:\n",
        "- Index\n",
        "- Sign\n",
        "```\n",
        "\n",
        "\n",
        "\n",
        "**P.S.** The meaning of Ref[1] is Refereces[1]  and suggests to check the link from Refereces[1].\n",
        "\n",
        "\n",
        "\n"
      ]
    },
    {
      "cell_type": "markdown",
      "metadata": {
        "id": "EwKvxkuB55Jz"
      },
      "source": [
        "---\n",
        "\n",
        "Description of Sub-steps of Step 1\n",
        "\n",
        "---\n",
        "\n",
        "> **STEP 1. Encode Numbers:**\n",
        "\n",
        "Part of the code where I encode numbers. The input and result of this step are next:\n",
        "```\n",
        "Intput\n",
        "Original list: [5, -3, 7, 15]\n",
        "```\n",
        "```\n",
        "Output\n",
        "Marked state(s): ['101']\n",
        "Number of qubits needed for the cirquit: 3\n",
        "```\n",
        "\n",
        "Here are all **DETAILS** of the code. Explained by output of each step:\n",
        "\n",
        ">> **Step 1.1**\n",
        "```\n",
        "Output\n",
        "Binary representation of indexes for numbers in the input list:\n",
        "['00', '01', '10', '11']\n",
        "```\n",
        ">> **Step 1.2**\n",
        "```\n",
        "Output\n",
        "The sign identification is added to the result from Step 1.1:\n",
        "['000', '101', '010', '011']\n",
        "```\n",
        ">> **Step 1.3**\n",
        "```\n",
        "Output\n",
        "Filtered states that will be marked [negative numbers]: ['101']\n",
        "```\n",
        ">> **Step 1.4**\n",
        "```\n",
        "Output\n",
        "Length of the first element: 3\n",
        "Check if all elements have the same length [to avoid errors]: True\n",
        "```"
      ]
    },
    {
      "cell_type": "markdown",
      "metadata": {
        "id": "bV84pqXABOL-"
      },
      "source": [
        "### **Step 2: Apply Grover's algorithm**\n",
        "\n",
        "---\n",
        "\n",
        "*Description* of my logic and questions I stated for this part. Also here you cn find all steps of the algorithm of the code:\n",
        "\n",
        "---\n",
        "> **Q_1**:\n",
        "Should I use Grover's Algorithm?\n",
        "```\n",
        "Since I was already a bit familiar with the Grover's algorithm and it's\n",
        "applications. I knew could find more infomation and examples of use form Ref[3] also I took a look on Ref[6].\n",
        "```\n",
        "\n",
        "\n",
        "> **Q_2**:\n",
        "What are steps of Grover's Algorithm?\n",
        "```\n",
        "The image taken from Ref[3]. Image represents example of Grover algorithm for 2\n",
        "qubit ciruit.\n",
        "```\n",
        "![picture](https://learn.qiskit.org/content/v2/ch-algorithms/images/grover_circuit_2qubits_full_11.svg)\n",
        ">> Grover's Algorithm steps:\n",
        "1. **Init:** Create a uniform superposition by apply Hadamard gates.\n",
        "2. **Oracle:** Mark states that represent negative numbers using a phase oracle\n",
        "3. **Amplification:** Perform the reflection around the average amplitude.\n",
        "4. **Measure** the  qubits to retrieve marked states.\n",
        "\n",
        "\n",
        "**P.S** All the calculation detailes are not mentioned here for a sake of making this notebook more light. All the calculation details could be found in Referenses as they were applied with an exact the same logic as it was shown in Referenses.\n",
        "\n",
        "> **Q_3**:\n",
        "I want the program to get as an input the list of any lengh and with any numbr of marked states. How can I generalize the code?\n",
        "```\n",
        "I found that there are some paperso on multi-dimentional Grover's algorithm\n",
        "with muliple input/ Grover's search algorithm for n-qubits / etc. All these\n",
        "names ae about the same how to deal with Grover's algorithm when we have\n",
        "n-qubit cirquit and k-marked states.\n",
        "```\n",
        "```\n",
        "The most usefull for me was n-qubit Oracle from Ref[4,5]. Later I found that\n",
        "there is a bit different implementation of the same idea in Ref[7]. But I used\n",
        "Oracle of Ref[4,5].\n",
        "``` *italicised text*"
      ]
    },
    {
      "cell_type": "markdown",
      "metadata": {
        "id": "iJlQpthpd8aa"
      },
      "source": [
        "### **Step 3: Decode results**\n",
        "\n",
        "In this part I didn't have that many question. I just decided to improve the output of the task a bit by geting the indexes of negative numbers and in the end show the list of negative numbers if there was any in the list.\n",
        "\n",
        "\n",
        "This part follows next steps:\n",
        "\n",
        ">**Step_3.1:**\n",
        "- Get top counted elements\n",
        "- Get False/True if negative numers are not found/found\n",
        "\n",
        ">**Step_3.2:**\n",
        "- Delete sign representation from binary indexes list\n",
        "\n",
        ">**Step_3.3:**\n",
        "- Transform binary elements to decimal\n",
        "\n",
        ">**Step_3.4:**\n",
        "- Get negative elements of the list"
      ]
    },
    {
      "cell_type": "markdown",
      "metadata": {
        "id": "HOKjQbz-sTR0"
      },
      "source": [
        "### **Refereces**\n",
        "---\n",
        "Quantum embedding:\n",
        "\n",
        "1. [Quantum embedding - Pennylane.ai](https:///pennylane.ai/qml/glossary/quantum_embedding)\n",
        "\n",
        "\n",
        "2. [Embedding idea discussion @SimoneGasperini and @ShellyGarion - Qiskit ](https://github.com/Qiskit/qiskit/issues/8290)\n",
        "\n",
        "---\n",
        "\n",
        "Grover's Algorithm\n",
        "\n",
        "3. [Grover's Algorithm explanation with simple exaples - Qiskit ](https://learn.qiskit.org/course/ch-algorithms/grovers-algorithm)\n",
        "\n",
        "4. [Grover's search algorithm for  n - qubits with optimal number of iterations - Paper arXiv](https://arxiv.org/pdf/2011.04051.pdf)\n",
        "\n",
        "5. [Grover's search algorithm for  n - qubits with optimal number of iterations - Code](https://github.com/simanraj1123/n-qubit-Grover-s-search-on-IBM-Qiskit/blob/main/n-qubit_Grover_algorithm_for_multi-targe_search.ipynb)\n",
        "\n",
        "6. [3 Papers recomended to read for this task_2 - QOSF](https://docs.google.com/document/d/1srStVKnXAelG1LH4mkjiFHVna3Fs5gEl/edit)\n",
        "\n",
        "7. [Grover's n-dimentional Oracle - Qiskit](https://qiskit.org/ecosystem/ibm-runtime/tutorials/grover_with_sampler.html)\n",
        "---\n"
      ]
    },
    {
      "cell_type": "markdown",
      "metadata": {
        "id": "aM8O0ohso5dB"
      },
      "source": [
        "## Code\n",
        "\n",
        "For this task I use Qiskit as I have some experience with it from their Summer School."
      ]
    },
    {
      "cell_type": "markdown",
      "metadata": {
        "id": "wMZyLHfV5-QJ"
      },
      "source": [
        "> Here first I define all functions that are used later in parts:\n",
        "- Code: Exaple to play with\n",
        "- Code: Exact solution from the task"
      ]
    },
    {
      "cell_type": "markdown",
      "metadata": {
        "id": "4QjFvreR4dBm"
      },
      "source": [
        "\n",
        "\n",
        "---\n",
        "\n",
        ">The structure of the code is as follows:\n",
        "- Step 1: Encode numbers\n",
        "- Step 2: Apply Grover's algorithm\n",
        "- Step 3: Decode results\n",
        "\n",
        "---\n",
        "\n",
        "> P.S. The details about each step you will find under descreption of it.\n",
        "---"
      ]
    },
    {
      "cell_type": "markdown",
      "metadata": {
        "id": "85pA-bDNKMGo"
      },
      "source": [
        "\n",
        "Libraries to install. Restart crnel ones you install the libraries."
      ]
    },
    {
      "cell_type": "code",
      "execution_count": null,
      "metadata": {
        "id": "5abO4XzuuVJP"
      },
      "outputs": [],
      "source": [
        "!pip install qiskit\n",
        "!pip install pylatexenc\n",
        "!pip install qiskit-aer"
      ]
    },
    {
      "cell_type": "markdown",
      "metadata": {
        "id": "NW2xbyrQKeIA"
      },
      "source": [
        "Import Libraries"
      ]
    },
    {
      "cell_type": "code",
      "execution_count": 168,
      "metadata": {
        "id": "uydmSgxEJ1RK"
      },
      "outputs": [],
      "source": [
        "import numpy as np\n",
        "import matplotlib.pyplot as plt\n",
        "\n",
        "from qiskit import QuantumCircuit, execute, Aer, IBMQ, QuantumRegister, ClassicalRegister\n",
        "from qiskit.compiler import transpile, assemble\n",
        "from qiskit.converters import circuit_to_gate\n",
        "from qiskit.circuit.library.standard_gates import ZGate\n",
        "from qiskit.tools.jupyter import *\n",
        "from qiskit.visualization import *\n",
        "\n",
        "import random\n",
        "import time"
      ]
    },
    {
      "cell_type": "markdown",
      "metadata": {
        "id": "bTeDvlJ5tUjo"
      },
      "source": [
        "### Step 1: Encode numbers"
      ]
    },
    {
      "cell_type": "markdown",
      "metadata": {
        "id": "Kvp5Rxl5va1_"
      },
      "source": [
        "\n",
        ">**Step 1.1**\n",
        "- Transform indexes of thelist to binary.\n",
        "\n",
        ">**Step 1.2**\n",
        "- Add binary sign identification to the binary indexes.\n",
        "\n",
        ">**Step 1.3**\n",
        "- Filtered states that will be marked (negative numbers).\n",
        "\n",
        ">**Step 1.4**\n",
        "- Get the numer of qubits we will need in the cirquit.\n",
        "\n",
        "\n",
        "\n"
      ]
    },
    {
      "cell_type": "code",
      "execution_count": 86,
      "metadata": {
        "id": "Q4e-D7AbQqbz"
      },
      "outputs": [],
      "source": [
        "def index_binary(numbers:list):\n",
        "    \"\"\"\n",
        "    Convert a list of numbers into binary representations with padded zeros.\n",
        "\n",
        "    Args:\n",
        "        numbers (list): List of integers.\n",
        "    Returns:\n",
        "        list: List of binary representations.\n",
        "    \"\"\"\n",
        "    list_length = len(numbers)\n",
        "    max_num = list_length - 1\n",
        "    max_length = len(bin(max_num)) - 2\n",
        "    binary_list = [format(i, '0' + str(max_length) + 'b') for i in range(list_length)]\n",
        "    return binary_list\n",
        "\n",
        "\n",
        "def combine_sign_and_index(numbers:list, index_binary_representations:list):\n",
        "    \"\"\"\n",
        "    Combine sign information with binary index representations.\n",
        "\n",
        "    Args:\n",
        "        numbers (list): List of integers.\n",
        "        index_binary_representations (list): List of binary index representations.\n",
        "    Returns:\n",
        "        list: List of binary representations with sign information.\n",
        "    \"\"\"\n",
        "    sign_information = ['0' if num >= 0 else '1' for num in numbers]\n",
        "    binary_representations = [sign + index for sign, index in zip(sign_information, index_binary_representations)]\n",
        "    return binary_representations\n",
        "\n",
        "\n",
        "def filter_target(binary_numbers:list):\n",
        "    \"\"\"\n",
        "    Filter binary numbers that start with '1'.\n",
        "\n",
        "    Args:\n",
        "        binary_numbers (list): List of binary numbers.\n",
        "    Returns:\n",
        "        list: List of binary numbers that start with '1'.\n",
        "    \"\"\"\n",
        "    filtered_numbers = [binary for binary in binary_numbers if binary.startswith('1')]\n",
        "    return filtered_numbers\n",
        "\n",
        "\n",
        "def check_binary_list_lengths(input_list:list):\n",
        "    \"\"\"\n",
        "    Check if all binary numbers in the list have the same length.\n",
        "\n",
        "    Args:\n",
        "        input_list (list): List of binary numbers.\n",
        "    Returns:\n",
        "        tuple: First element length and a boolean indicating if all elements have the same length.\n",
        "    \"\"\"\n",
        "    first_element_length = len(input_list[0])\n",
        "    same_length = all(len(item) == first_element_length for item in input_list)\n",
        "    return first_element_length, same_length"
      ]
    },
    {
      "cell_type": "markdown",
      "metadata": {
        "id": "tduzRaoF24eR"
      },
      "source": [
        "### Step 2: Apply Grover's algorithm"
      ]
    },
    {
      "cell_type": "markdown",
      "metadata": {
        "id": "lHJxKF7YOz3L"
      },
      "source": [
        "Here we initialize parts of n-qubit Grover's Algorithm: **Ref[3], Ref[4,5]**.\n",
        "\n",
        "The image taken from Ref[3]. Image represents example of Grover algorithm for 2\n",
        "qubit ciruit.\n",
        "\n",
        "![picture](https://learn.qiskit.org/content/v2/ch-algorithms/images/grover_circuit_2qubits_full_11.svg)\n",
        "\n",
        ">**Grover's Algorithm steps:**\n",
        "\n",
        ">>**Step 2.1**\n",
        "- **Init:** Create a uniform superposition by apply Hadamard gates.\n",
        "\n",
        ">>**Step 2.2**\n",
        "- **Oracle:** Mark states that represent negative numbers using a phase oracle\n",
        "\n",
        ">>**Step 2.3**\n",
        "- **Amplification:** Perform the reflection around the average amplitude.\n",
        "\n",
        ">>**Step 2.4.**\n",
        "- **Measure** the  qubits to retrieve marked states.\n"
      ]
    },
    {
      "cell_type": "code",
      "execution_count": 87,
      "metadata": {
        "id": "hgrOYb2MKDFb"
      },
      "outputs": [],
      "source": [
        "def initialize_state(qc:QuantumCircuit, n:int):\n",
        "    \"\"\"\n",
        "    Apply a Hadamard (H) gate to 'n' qubits in the quantum circuit 'qc'.\n",
        "\n",
        "    Args:\n",
        "        qc (QuantumCircuit): The quantum circuit to which the Hadamard gate is applied.\n",
        "        n (int): The number of qubits on which the Hadamard gate is applied.\n",
        "    Returns:\n",
        "        QuantumCircuit: The quantum circuit with Hadamard gates applied to 'n' qubits.\n",
        "    \"\"\"\n",
        "    qubits = list(range(n))\n",
        "    for q in qubits:\n",
        "        qc.h(q)\n",
        "    return qc\n",
        "\n",
        "\n",
        "def oracle_grover(n:int, targets:list):\n",
        "    \"\"\"\n",
        "    Given the number of qubits \"n\" and a list of target states \"targets\", the function returns the quantum circuit\n",
        "    for the oracle.\n",
        "\n",
        "    Args:\n",
        "        n (int): The number of qubits.\n",
        "        targets (list of str): A list of target states in binary representation.\n",
        "    Returns:\n",
        "        QuantumCircuit: The quantum circuit representing the oracle.\n",
        "    \"\"\"\n",
        "\n",
        "    qbits = QuantumRegister(n,'q')\n",
        "    circ = QuantumCircuit(qbits, name=\"Oracle\")\n",
        "\n",
        "    # Creating a sequential circuit for each target state.\n",
        "    for target in targets:\n",
        "\n",
        "        # Each string representing a target state is reversed so that the indexing matches with the indices of\n",
        "        # the corresponding qubits.\n",
        "        target = list(target)\n",
        "        target.reverse()\n",
        "        target = ''.join(target)\n",
        "\n",
        "        # Flip zero bits\n",
        "        for i in range(len(target)):\n",
        "            if target[i]=='0':\n",
        "                circ.x(i)\n",
        "\n",
        "        # Apply a n-1 CZ\n",
        "        CZ = ZGate().control(n-1)\n",
        "        circ.append(CZ, qbits)\n",
        "\n",
        "        # Flip back\n",
        "        for i in range(len(target)):\n",
        "            if target[i]=='0':\n",
        "                circ.x(i)\n",
        "    return circ\n",
        "\n",
        "\n",
        "def diffuser_grover(nqubits:int):\n",
        "    \"\"\"\n",
        "    Create a Grover diffusion operator (diffuser) for 'nqubits' qubits.\n",
        "\n",
        "    Args:\n",
        "        nqubits (int): The number of qubits.\n",
        "\n",
        "    Returns:\n",
        "        Gate: A gate representing the Grover diffusion operator.\n",
        "    \"\"\"\n",
        "    qc = QuantumCircuit(nqubits)\n",
        "    # Apply transformation |s> -> |00..0> (H-gates)\n",
        "    for qubit in range(nqubits):\n",
        "        qc.h(qubit)\n",
        "    # Apply transformation |00..0> -> |11..1> (X-gates)\n",
        "    for qubit in range(nqubits):\n",
        "        qc.x(qubit)\n",
        "    # Do multi-controlled-Z gate\n",
        "    qc.h(nqubits-1)\n",
        "    qc.mct(list(range(nqubits-1)), nqubits-1)  # multi-controlled-toffoli\n",
        "    qc.h(nqubits-1)\n",
        "    # Apply transformation |11..1> -> |00..0>\n",
        "    for qubit in range(nqubits):\n",
        "        qc.x(qubit)\n",
        "    # Apply transformation |00..0> -> |s>\n",
        "    for qubit in range(nqubits):\n",
        "        qc.h(qubit)\n",
        "    # We will return the diffuser as a gate\n",
        "    U_s = qc.to_gate()\n",
        "    U_s.name = \"U$_s$\"\n",
        "    return U_s\n"
      ]
    },
    {
      "cell_type": "markdown",
      "metadata": {
        "id": "phjiEutn7e8h"
      },
      "source": [
        "### Step 3: Decode results\n"
      ]
    },
    {
      "cell_type": "markdown",
      "metadata": {
        "id": "cGNU9EGyw1V7"
      },
      "source": [
        "\n",
        ">**Step_3.1:**\n",
        "- Get top counted elements\n",
        "- Get False/True if negative numers are not found/found\n",
        "\n",
        ">**Step_3.2:**\n",
        "- Delete sign representation from binary indexes list\n",
        "\n",
        ">**Step_3.3:**\n",
        "- Transform binary elements to decimal\n",
        "\n",
        ">**Step_3.4:**\n",
        "- Get negative elements of the list"
      ]
    },
    {
      "cell_type": "code",
      "execution_count": 88,
      "metadata": {
        "id": "tlzJ0WdHPgLX"
      },
      "outputs": [],
      "source": [
        "def get_top_elements_keys(dictionary:dict, n:int):\n",
        "    \"\"\"\n",
        "    Get the keys of the top 'n' elements from a dictionary based on their values.\n",
        "\n",
        "    Args:\n",
        "        dictionary (dict): A dictionary where keys are elements and values are numeric scores.\n",
        "        n (int): The number of top elements to retrieve.\n",
        "    Returns:\n",
        "        list: A list of the keys of the top 'n' elements based on their values in descending order.\n",
        "    \"\"\"\n",
        "    sorted_items = sorted(dictionary.items(), key=lambda x: x[1], reverse=True)\n",
        "    top_n_keys = [item[0] for item in sorted_items[:n]]\n",
        "\n",
        "    return top_n_keys\n",
        "\n",
        "\n",
        "def list_empty_TF(input_list:list):\n",
        "    \"\"\"\n",
        "    Check if a list is empty or not.\n",
        "\n",
        "    Args:\n",
        "        input_list (list): A list to check for emptiness.\n",
        "    Returns:\n",
        "        bool: True if the list is not empty, False if it's empty.\n",
        "    \"\"\"\n",
        "    if input_list:\n",
        "        return True\n",
        "    else:\n",
        "        return False\n",
        "\n",
        "\n",
        "def remove_first_character(input_list:list):\n",
        "    \"\"\"\n",
        "    Remove the first character from each element in a list of strings.\n",
        "\n",
        "    Args:\n",
        "        input_list (list): A list of strings.\n",
        "    Returns:\n",
        "        list: A list of strings with the first character removed from each element.\n",
        "    \"\"\"\n",
        "    output_list = [element[1:] for element in input_list]\n",
        "    return output_list\n",
        "\n",
        "\n",
        "def binary_to_decimal(input_list:list):\n",
        "    \"\"\"\n",
        "    Convert a list of binary strings to decimal numbers.\n",
        "\n",
        "    Args:\n",
        "        input_list (list): A list of binary strings.\n",
        "    Returns:\n",
        "        list: A list of corresponding decimal numbers.\n",
        "    \"\"\"\n",
        "    output_list = [int(binary, 2) for binary in input_list]\n",
        "    return output_list\n",
        "\n",
        "\n",
        "def extract_numbers_by_indexes(list_of_indexes:list, list_of_numbers:list):\n",
        "    \"\"\"\n",
        "    Extract numbers from a list based on the provided list of indexes.\n",
        "\n",
        "    Args:\n",
        "        list_of_indexes (list): A list of indexes specifying which numbers to extract.\n",
        "        list_of_numbers (list): A list of numbers.\n",
        "    Returns:\n",
        "        list: A list of numbers extracted based on the provided indexes.\n",
        "    \"\"\"\n",
        "    extracted_numbers = [list_of_numbers[i] for i in list_of_indexes]\n",
        "    return extracted_numbers"
      ]
    },
    {
      "cell_type": "markdown",
      "metadata": {
        "id": "wDB073R5heXU"
      },
      "source": [
        "### Step Extra: Function that was asked in the task"
      ]
    },
    {
      "cell_type": "markdown",
      "metadata": {
        "id": "nZXg5Y4uiTSA"
      },
      "source": [
        "Please don't judge me for this function... I was implementing it fast just to get exactly what you asked for.\n",
        "\n",
        "But in my opinion it's better to cut the problem in 3 steps as I did so we can see what is output of every step."
      ]
    },
    {
      "cell_type": "code",
      "execution_count": 190,
      "metadata": {
        "id": "IcWDRJiThp5M"
      },
      "outputs": [],
      "source": [
        "def find_negative_numbers(input_list:list[int]):\n",
        "  \"\"\"\n",
        "  Check for the presence of negative numbers in the input list using Grover's Algorithm.\n",
        "\n",
        "  Args:\n",
        "      input_list (list[int]): A list of integers to be checked.\n",
        "  Returns:\n",
        "      Tuple[bool, float]: A tuple containing a boolean indicating the presence of negative numbers\n",
        "      in the list (True if present, False if not) and the time taken for the computation in seconds.\n",
        "  \"\"\"\n",
        "  #Step_1: Encode numbers\n",
        "  index_a_binary = index_binary(input_list)\n",
        "  index_a_binary_sign = combine_sign_and_index(input_list, index_a_binary)\n",
        "  targets = filter_target(index_a_binary_sign)\n",
        "  n, same_length = check_binary_list_lengths(index_a_binary_sign)\n",
        "\n",
        "  #Step_2: Grouver's Algorithm\n",
        "  start_time = time.time()\n",
        "  grover_circuit_n= QuantumCircuit(n)\n",
        "  grover_circuit_n = initialize_state(grover_circuit_n, n)\n",
        "  grover_circuit_n.append(oracle_grover(n, targets), list(range(n)))\n",
        "  grover_circuit_n.append(diffuser_grover(n), list(range(n)))\n",
        "  grover_circuit_n.measure_all()\n",
        "\n",
        "  qasm_sim = Aer.get_backend('qasm_simulator')\n",
        "  transpiled_grover_circuit_n = transpile(grover_circuit_n, qasm_sim)\n",
        "  results = qasm_sim.run(transpiled_grover_circuit_n).result()\n",
        "  counts = results.get_counts()\n",
        "  end_time = time.time()\n",
        "  time_taken = end_time - start_time\n",
        "\n",
        "\n",
        "  #Step_3: Decode results\n",
        "  n_elements = len(targets)\n",
        "  top_elements = get_top_elements_keys(counts, n_elements)\n",
        "  empty = list_empty_TF(top_elements)\n",
        "\n",
        "  return empty, time_taken"
      ]
    },
    {
      "cell_type": "markdown",
      "metadata": {
        "id": "G2j7U553c8UC"
      },
      "source": [
        "##Code: Example to play with"
      ]
    },
    {
      "cell_type": "markdown",
      "metadata": {
        "id": "fyWA58u7c68X"
      },
      "source": [
        "INPUT\n",
        "- Enter any list of mixed negative and  positive numbers. It can be any lengh and can have any number of negative numbers.\n",
        "\n",
        "\n",
        "Then just run all the cells and see whats' going on :)"
      ]
    },
    {
      "cell_type": "markdown",
      "metadata": {
        "id": "YPlJr7QRRlwN"
      },
      "source": [
        "### Input"
      ]
    },
    {
      "cell_type": "code",
      "execution_count": 174,
      "metadata": {
        "id": "Vl4HUTAtQ_5i"
      },
      "outputs": [],
      "source": [
        "input_list = [5, -3, -7, 15, -1]"
      ]
    },
    {
      "cell_type": "markdown",
      "metadata": {
        "id": "1RdmU4IsRqd_"
      },
      "source": [
        "### Step 1:Encode numbers"
      ]
    },
    {
      "cell_type": "code",
      "execution_count": 175,
      "metadata": {
        "colab": {
          "base_uri": "https://localhost:8080/"
        },
        "id": "Vv9GdLg4LRFs",
        "outputId": "0fe074f4-d860-4081-84d1-6c8053b0c6df"
      },
      "outputs": [
        {
          "name": "stdout",
          "output_type": "stream",
          "text": [
            "STEP_1:Encode numbers\n",
            "STEP_1.1:\n",
            "Original numbers: [5, -3, -7, 15, -1]\n",
            "Binary indexes of numbers: ['000', '001', '010', '011', '100'] \n",
            "\n",
            "STEP_1.2:\n",
            "The sign + binary indexes of numbers: ['0000', '1001', '1010', '0011', '1100'] \n",
            "\n",
            "STEP_1.3:\n",
            "Filtered numbers starting with '1'. Targets: ['1001', '1010', '1100'] \n",
            "\n",
            "STEP_1.4:\n",
            "Length of the elements and the number of qubits in the circuit: 4\n",
            "All elements have the same length: True\n"
          ]
        }
      ],
      "source": [
        "#STEP_1:Encode numbers\n",
        "print('STEP_1:Encode numbers')\n",
        "\n",
        "# STEP_1.1:\n",
        "#Get binary representations of indices\n",
        "index_a_binary = index_binary(input_list)\n",
        "print('STEP_1.1:')\n",
        "print(\"Original numbers:\",input_list)\n",
        "print(\"Binary indexes of numbers:\", index_a_binary, '\\n')\n",
        "\n",
        "\n",
        "# STEP_1.2:\n",
        "#Combine sign and index information\n",
        "index_a_binary_sign = combine_sign_and_index(input_list, index_a_binary)\n",
        "print('STEP_1.2:')\n",
        "print(\"The sign + binary indexes of numbers:\", index_a_binary_sign, '\\n')\n",
        "\n",
        "\n",
        "# STEP_1.3:\n",
        "# Use the function to filter numbers starting with '1'\n",
        "targets = filter_target(index_a_binary_sign)\n",
        "print('STEP_1.3:')\n",
        "print(\"Filtered numbers starting with '1'. Targets:\", targets, '\\n')\n",
        "\n",
        "# STEP_1.4:\n",
        "# Find the n for number of qubits in ciruit\n",
        "length, same_length = check_binary_list_lengths(index_a_binary_sign)\n",
        "print('STEP_1.4:')\n",
        "print(f\"Length of the elements and the number of qubits in the circuit: {length}\")\n",
        "print(f\"All elements have the same length: {same_length}\")"
      ]
    },
    {
      "cell_type": "markdown",
      "metadata": {
        "id": "T9UoH256Rt9Q"
      },
      "source": [
        "### Step 2: Apply Grovers algorithm"
      ]
    },
    {
      "cell_type": "code",
      "execution_count": 176,
      "metadata": {
        "colab": {
          "base_uri": "https://localhost:8080/",
          "height": 389
        },
        "id": "oxwqMryWbsMc",
        "outputId": "e72066c8-b854-41ad-a85d-89187933bdf2"
      },
      "outputs": [
        {
          "name": "stdout",
          "output_type": "stream",
          "text": [
            "STEP_2: Apply Grovers algorithm: \n",
            "\n",
            "STEP_2.1: \n",
            "\n"
          ]
        },
        {
          "data": {
            "image/png": "[encoded data removed]",
            "text/plain": [
              "<Figure size 203.885x367.889 with 1 Axes>"
            ]
          },
          "execution_count": 176,
          "metadata": {},
          "output_type": "execute_result"
        }
      ],
      "source": [
        "print('STEP_2: Apply Grovers algorithm:' , '\\n')\n",
        "# STEP_2.1:\n",
        "# Create a cirquit with n-qubit. Where n is needed numer that was initalized with classic part before.\n",
        "# Initialize the state\n",
        "print('STEP_2.1:' , '\\n')\n",
        "\n",
        "n = length\n",
        "grover_circuit_n= QuantumCircuit(n)\n",
        "grover_circuit_n = initialize_state(grover_circuit_n, n)\n",
        "grover_circuit_n.draw('mpl')"
      ]
    },
    {
      "cell_type": "code",
      "execution_count": 177,
      "metadata": {
        "colab": {
          "base_uri": "https://localhost:8080/",
          "height": 355
        },
        "id": "IlfXbod4cvA_",
        "outputId": "5d810c0a-d062-44eb-a77e-cb0c7c05684c"
      },
      "outputs": [
        {
          "name": "stdout",
          "output_type": "stream",
          "text": [
            "STEP_2.2: \n",
            "\n"
          ]
        },
        {
          "data": {
            "image/png": "[encoded data removed]",
            "text/plain": [
              "<Figure size 371.107x367.889 with 1 Axes>"
            ]
          },
          "execution_count": 177,
          "metadata": {},
          "output_type": "execute_result"
        }
      ],
      "source": [
        "# STEP_2.2:\n",
        "#Creating Oracle for marked states\n",
        "print('STEP_2.2:' , '\\n')\n",
        "\n",
        "grover_circuit_n.append(oracle_grover(n, targets), list(range(n)))\n",
        "grover_circuit_n.draw('mpl')"
      ]
    },
    {
      "cell_type": "code",
      "execution_count": 178,
      "metadata": {
        "colab": {
          "base_uri": "https://localhost:8080/",
          "height": 320
        },
        "id": "ZtkHQ3v6eUvL",
        "outputId": "c1b8549a-d458-4abb-ffbe-b3c2f68c75f5"
      },
      "outputs": [
        {
          "data": {
            "image/png": "[encoded data removed]",
            "text/plain": [
              "<Figure size 956.385x367.889 with 1 Axes>"
            ]
          },
          "execution_count": 178,
          "metadata": {},
          "output_type": "execute_result"
        }
      ],
      "source": [
        "#Here we can see decomposition of the circuit. In case we want to see details and check if it's correct\n",
        "grover_circuit_n.decompose().draw('mpl')"
      ]
    },
    {
      "cell_type": "code",
      "execution_count": 179,
      "metadata": {
        "colab": {
          "base_uri": "https://localhost:8080/",
          "height": 419
        },
        "id": "xTHTJdELcvfY",
        "outputId": "77fd3a75-7503-4f1e-aab8-6a66985cb0c4"
      },
      "outputs": [
        {
          "name": "stdout",
          "output_type": "stream",
          "text": [
            "STEP_2.3: \n",
            "\n"
          ]
        },
        {
          "data": {
            "image/png": "[encoded data removed]",
            "text/plain": [
              "<Figure size 914.831x451.5 with 1 Axes>"
            ]
          },
          "execution_count": 179,
          "metadata": {},
          "output_type": "execute_result"
        }
      ],
      "source": [
        "# STEP_2.3:\n",
        "# Diffusion operator (U_s)\n",
        "print('STEP_2.3:' , '\\n')\n",
        "\n",
        "grover_circuit_n.append(diffuser_grover(n), list(range(n)))\n",
        "grover_circuit_n.measure_all()\n",
        "grover_circuit_n.draw('mpl')"
      ]
    },
    {
      "cell_type": "code",
      "execution_count": 180,
      "metadata": {
        "colab": {
          "base_uri": "https://localhost:8080/",
          "height": 519
        },
        "id": "XxKsxHzGcvoP",
        "outputId": "3279fe7e-bcc9-4d8a-be5a-c46d37e99b48"
      },
      "outputs": [
        {
          "name": "stdout",
          "output_type": "stream",
          "text": [
            "STEP_2.4: \n",
            "\n"
          ]
        },
        {
          "data": {
            "image/png": "[encoded data removed]",
            "text/plain": [
              "<Figure size 700x500 with 1 Axes>"
            ]
          },
          "execution_count": 180,
          "metadata": {},
          "output_type": "execute_result"
        }
      ],
      "source": [
        "# STEP_2.4:\n",
        "# Measurments\n",
        "print('STEP_2.4:' , '\\n')\n",
        "\n",
        "qasm_sim = Aer.get_backend('qasm_simulator')\n",
        "transpiled_grover_circuit_n = transpile(grover_circuit_n, qasm_sim)\n",
        "results = qasm_sim.run(transpiled_grover_circuit_n).result()\n",
        "\n",
        "counts = results.get_counts()\n",
        "plot_histogram(counts)"
      ]
    },
    {
      "cell_type": "markdown",
      "metadata": {
        "id": "PjzM4rVpSlvc"
      },
      "source": [
        "### Step 3: Decode results"
      ]
    },
    {
      "cell_type": "code",
      "execution_count": 181,
      "metadata": {
        "colab": {
          "base_uri": "https://localhost:8080/"
        },
        "id": "8LzMxaBNbqZd",
        "outputId": "b6c10ab0-9400-49ef-b84a-c78124bd01f6"
      },
      "outputs": [
        {
          "name": "stdout",
          "output_type": "stream",
          "text": [
            "STEP_3.1:\n",
            "Top elements are: ['1100', '1010', '1001']\n",
            "Does list have negative numbers: True \n",
            "\n",
            "STEP_3.2:\n",
            "Indexes of elements binary representation: ['100', '010', '001'] \n",
            "\n",
            "STEP_3.3:\n",
            "Indexes of elements decimal representation: [4, 2, 1] \n",
            "\n",
            "STEP_3.4:\n",
            "Negative elements of the list: [-1, -7, -3]\n"
          ]
        }
      ],
      "source": [
        "#STEP_3.1: Find top most probable elements\n",
        "n_elements = len(targets)\n",
        "top_elements = get_top_elements_keys(counts, n_elements)\n",
        "empty = list_empty_TF(top_elements)\n",
        "print('STEP_3.1:')\n",
        "print(\"Top elements are:\", top_elements)\n",
        "print(\"Does list have negative numbers:\", empty, '\\n')\n",
        "\n",
        "\n",
        "#STEP_3.2: Delet sign element to get the index\n",
        "indexes_binary = remove_first_character(top_elements)\n",
        "print('STEP_3.2:')\n",
        "print(\"Indexes of elements binary representation:\", indexes_binary, '\\n' )\n",
        "\n",
        "\n",
        "#STEP_3.3: Transform binary index to decimal\n",
        "indexes_decimal = binary_to_decimal(indexes_binary)\n",
        "print('STEP_3.3:')\n",
        "print(\"Indexes of elements decimal representation:\", indexes_decimal, '\\n' )\n",
        "\n",
        "#STEP_3.4: Take binary indexs and find marked elements in the input list:\n",
        "marked_elements = extract_numbers_by_indexes(indexes_decimal, input_list)\n",
        "print('STEP_3.4:')\n",
        "print(\"Negative elements of the list:\", marked_elements)"
      ]
    },
    {
      "cell_type": "markdown",
      "metadata": {
        "id": "6rEA5sIC4GyT"
      },
      "source": [
        "### Results"
      ]
    },
    {
      "cell_type": "markdown",
      "metadata": {
        "id": "YxsEF_M9yzfU"
      },
      "source": [
        "We can see that algorithm successfuly found:\n",
        "\n",
        "- Step_3.2: that there are negative numbers in the list\n",
        "\n",
        "- Step_3.4: list of negative numbers on a step 3.4."
      ]
    },
    {
      "cell_type": "code",
      "execution_count": 187,
      "metadata": {
        "colab": {
          "base_uri": "https://localhost:8080/"
        },
        "id": "MDzu8LSCzF7o",
        "outputId": "0d06df7b-58fb-4a5f-a806-2908914cfe5f"
      },
      "outputs": [
        {
          "name": "stdout",
          "output_type": "stream",
          "text": [
            "The given list: [5, -3, -7, 15, -1]\n"
          ]
        }
      ],
      "source": [
        "print(\"The given list:\", input_list)"
      ]
    },
    {
      "cell_type": "code",
      "execution_count": 184,
      "metadata": {
        "colab": {
          "base_uri": "https://localhost:8080/"
        },
        "id": "lo1J4VqdzhZF",
        "outputId": "8aefd56c-f083-4f31-be38-51f230471d4b"
      },
      "outputs": [
        {
          "name": "stdout",
          "output_type": "stream",
          "text": [
            "Does list have negative numbers: True \n",
            "\n"
          ]
        }
      ],
      "source": [
        "print(\"Does list have negative numbers:\", empty, '\\n')"
      ]
    },
    {
      "cell_type": "code",
      "execution_count": 185,
      "metadata": {
        "colab": {
          "base_uri": "https://localhost:8080/"
        },
        "id": "SUZ0tBCuy9kL",
        "outputId": "8596da14-ef13-4b04-a6c4-681a13a682b9"
      },
      "outputs": [
        {
          "name": "stdout",
          "output_type": "stream",
          "text": [
            "Negative elements of the list: [-1, -7, -3]\n"
          ]
        }
      ],
      "source": [
        "print(\"Negative elements of the list:\", marked_elements)"
      ]
    },
    {
      "cell_type": "markdown",
      "metadata": {
        "id": "QnhDg6dTq5i3"
      },
      "source": [
        "## Code: Exact solution from the task to play with"
      ]
    },
    {
      "cell_type": "markdown",
      "metadata": {
        "id": "kqyrq4yKz2ZS"
      },
      "source": [
        "This part is exact solution that was asked in the task. You can also play with it."
      ]
    },
    {
      "cell_type": "markdown",
      "metadata": {
        "id": "AoyNmkd70He7"
      },
      "source": [
        "You can define your list:"
      ]
    },
    {
      "cell_type": "code",
      "execution_count": 188,
      "metadata": {
        "id": "5w5ghn1rz_pM"
      },
      "outputs": [],
      "source": [
        "define_input_list = [5, 15, 2, -1]"
      ]
    },
    {
      "cell_type": "markdown",
      "metadata": {
        "id": "QyK2T3fW0KfZ"
      },
      "source": [
        "Here is the result:"
      ]
    },
    {
      "cell_type": "code",
      "execution_count": 189,
      "metadata": {
        "colab": {
          "base_uri": "https://localhost:8080/"
        },
        "id": "Q_m2Bz8rsWX3",
        "outputId": "6385e471-dff2-40fe-fba8-254da04564de"
      },
      "outputs": [
        {
          "name": "stdout",
          "output_type": "stream",
          "text": [
            "There are negative numbers in the list: True\n"
          ]
        }
      ],
      "source": [
        "negative_numbers, __ = find_negative_numbers(define_input_list)\n",
        "print('There are negative numbers in the list:', negative_numbers )"
      ]
    },
    {
      "cell_type": "markdown",
      "metadata": {
        "id": "6QQ3RfvDcR_r"
      },
      "source": [
        "#Part_3: Appendix"
      ]
    },
    {
      "cell_type": "markdown",
      "metadata": {
        "id": "JgWpylfqrt5a"
      },
      "source": [
        "## Time efficiency check"
      ]
    },
    {
      "cell_type": "markdown",
      "metadata": {
        "id": "e_gwO_Rf0N71"
      },
      "source": [
        "Here I wanted to check is there is any difference in the performance.\n",
        "\n",
        "Answer:\n",
        "> Yes there is. Qunatum algorithm works slower but there are many reasons for that:\n",
        "- Not a real big dataset to search thorugh. Classical algorithm optimized enough to show better results on this data.\n",
        "- I didn't check on a reall quantum device. Probably if there is good solution for noise it should work well.\n"
      ]
    },
    {
      "cell_type": "code",
      "execution_count": 170,
      "metadata": {
        "id": "rlsiuHEKpp67"
      },
      "outputs": [],
      "source": [
        "input_list = [random.randint(-100, 100) for _ in range(20055)]\n",
        "input_list.append(-random.randint(1, 100))"
      ]
    },
    {
      "cell_type": "code",
      "execution_count": 156,
      "metadata": {
        "colab": {
          "base_uri": "https://localhost:8080/"
        },
        "id": "-IpLEslUj0Rb",
        "outputId": "9d6a11d1-cc5f-4856-aa27-b66d0aa0e31b"
      },
      "outputs": [
        {
          "name": "stdout",
          "output_type": "stream",
          "text": [
            "There are negative numbers in the list: True\n",
            "Execution Time: 79.97742867469788 seconds\n"
          ]
        }
      ],
      "source": [
        "#Quantum Search\n",
        "\n",
        "negative_numbers, time_taken = find_negative_numbers(input_list)\n",
        "print('There are negative numbers in the list:', negative_numbers )\n",
        "print(\"Execution Time:\", time_taken, \"seconds\")"
      ]
    },
    {
      "cell_type": "code",
      "execution_count": 167,
      "metadata": {
        "colab": {
          "base_uri": "https://localhost:8080/"
        },
        "id": "3kGP4A68lCZP",
        "outputId": "510ee6c3-f693-4426-fe2f-5312660631a1"
      },
      "outputs": [
        {
          "name": "stdout",
          "output_type": "stream",
          "text": [
            "Result: True\n",
            "Execution Time: 0.0012502670288085938 seconds\n"
          ]
        }
      ],
      "source": [
        "# Classical search\n",
        "\n",
        "def has_negative_numbers(input_list):\n",
        "    for num in input_list:\n",
        "        if num < 0:\n",
        "            return True\n",
        "    return False\n",
        "\n",
        "start_time = time.time()\n",
        "result = has_negative_numbers(input_list)\n",
        "end_time = time.time()\n",
        "print(\"Result:\", result)\n",
        "print(\"Execution Time:\", end_time - start_time, \"seconds\")"
      ]
    },
    {
      "cell_type": "markdown",
      "metadata": {
        "id": "y_heh4h2qrCA"
      },
      "source": [
        "Thank you! It was fun :)\n",
        "\n",
        "Please don't hesitate to give me feedback."
      ]
    },
    {
      "cell_type": "markdown",
      "metadata": {
        "id": "huKoCtegdTqk"
      },
      "source": [
        "## Future work\n",
        "\n",
        ">Code:\n",
        "- Modify code - OOP\n",
        "- Check variables and unify them\n",
        "- Limitations?\n",
        "- Make a Dev of the code, not notebook but maybe app, idk :D\n",
        "\n",
        "> Ideas\n",
        "- Check time of the execution of the classical algorithm and quantum on a real quantum device\n",
        "- See if there are any limitations\n",
        "- Run on real computer / NISQ processors"
      ]
    }
  ],
  "metadata": {
    "colab": {
      "collapsed_sections": [
        "EoimvB24kkqQ"
      ],
      "provenance": [],
      "toc_visible": true
    },
    "kernelspec": {
      "display_name": "Python 3",
      "name": "python3"
    },
    "language_info": {
      "name": "python"
    }
  },
  "nbformat": 4,
  "nbformat_minor": 0
}
